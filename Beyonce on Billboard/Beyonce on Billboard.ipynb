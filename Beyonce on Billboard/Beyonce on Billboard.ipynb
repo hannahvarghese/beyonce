{
 "cells": [
  {
   "cell_type": "markdown",
   "id": "4dd6db6f-0c9b-46bf-87f3-e971df66be12",
   "metadata": {},
   "source": [
    "### Beyonce on Billboard"
   ]
  },
  {
   "cell_type": "code",
   "execution_count": 2,
   "id": "c1bd859d-4a4f-475d-9c2c-f5104455947d",
   "metadata": {
    "tags": []
   },
   "outputs": [],
   "source": [
    "# Import Dependencies\n",
    "import billboard\n",
    "import pandas as pd"
   ]
  },
  {
   "cell_type": "code",
   "execution_count": 3,
   "id": "453c9850-93d7-4816-93d0-d5cc6f3573f2",
   "metadata": {
    "tags": []
   },
   "outputs": [
    {
     "data": {
      "text/plain": [
       "'The Hot 100'"
      ]
     },
     "execution_count": 3,
     "metadata": {},
     "output_type": "execute_result"
    }
   ],
   "source": [
    ">>> chart = billboard.ChartData('hot-100')\n",
    ">>> chart.title\n",
    "'The Hot 100'"
   ]
  },
  {
   "cell_type": "code",
   "execution_count": 4,
   "id": "679a1534-1cee-4f13-89ef-571d11ff38be",
   "metadata": {
    "tags": []
   },
   "outputs": [
    {
     "data": {
      "text/plain": [
       "2"
      ]
     },
     "execution_count": 4,
     "metadata": {},
     "output_type": "execute_result"
    }
   ],
   "source": [
    ">>> song = chart[0]  # Get no. 1 song on chart\n",
    ">>> song.title\n",
    "'ALIEN SUPERSTAR'\n",
    ">>> song.artist\n",
    "'Beyonce'\n",
    ">>> song.weeks  # Number of weeks on chart\n",
    "2"
   ]
  },
  {
   "cell_type": "code",
   "execution_count": 6,
   "id": "711e33d8-861f-4b8d-909e-e7c194e75c19",
   "metadata": {
    "tags": []
   },
   "outputs": [
    {
     "ename": "SyntaxError",
     "evalue": "invalid syntax (627281044.py, line 2)",
     "output_type": "error",
     "traceback": [
      "\u001b[0;36m  Cell \u001b[0;32mIn[6], line 2\u001b[0;36m\u001b[0m\n\u001b[0;31m    hot-100 chart from 2022-9-7\u001b[0m\n\u001b[0m            ^\u001b[0m\n\u001b[0;31mSyntaxError\u001b[0m\u001b[0;31m:\u001b[0m invalid syntax\n"
     ]
    }
   ],
   "source": [
    ">>> print(chart)\n",
    "hot-100 chart from 2022-9-7"
   ]
  },
  {
   "cell_type": "code",
   "execution_count": null,
   "id": "7e69cc34-089c-4027-8436-6c929f080f92",
   "metadata": {},
   "outputs": [],
   "source": []
  }
 ],
 "metadata": {
  "kernelspec": {
   "display_name": "Python 3 (ipykernel)",
   "language": "python",
   "name": "python3"
  },
  "language_info": {
   "codemirror_mode": {
    "name": "ipython",
    "version": 3
   },
   "file_extension": ".py",
   "mimetype": "text/x-python",
   "name": "python",
   "nbconvert_exporter": "python",
   "pygments_lexer": "ipython3",
   "version": "3.10.11"
  }
 },
 "nbformat": 4,
 "nbformat_minor": 5
}
