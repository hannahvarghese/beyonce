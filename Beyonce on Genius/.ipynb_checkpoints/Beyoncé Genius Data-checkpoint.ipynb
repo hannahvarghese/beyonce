{
 "cells": [
  {
   "cell_type": "code",
   "execution_count": null,
   "id": "d818e331-f4f1-4d3e-96a4-6923e212c1f2",
   "metadata": {},
   "outputs": [],
   "source": []
  },
  {
   "cell_type": "code",
   "execution_count": null,
   "id": "57a111b0-ab9d-42e0-8259-6d1c03d571af",
   "metadata": {},
   "outputs": [],
   "source": []
  },
  {
   "cell_type": "code",
   "execution_count": null,
   "id": "c7cc0512-7851-4e75-8ac1-ff885bf33343",
   "metadata": {},
   "outputs": [],
   "source": [
    "# Import Dependencies\n",
    "from bs4 import BeautifulSoup\n",
    "import re\n",
    "import lyricsgenius\n",
    "import requests\n",
    "from pathlib import Path\n",
    "import pandas as pd"
   ]
  },
  {
   "cell_type": "code",
   "execution_count": null,
   "id": "6f6569d3-d8bc-4e0c-8c91-0e210a961d8a",
   "metadata": {},
   "outputs": [],
   "source": [
    "def clean_up(song_title):\n",
    "\n",
    "    if \"Ft\" in song_title:\n",
    "        before_ft_pattern = re.compile(\".*(?=\\(Ft)\")\n",
    "        song_title_before_ft = before_ft_pattern.search(song_title).group(0)\n",
    "        clean_song_title = song_title_before_ft.strip()\n",
    "        clean_song_title = clean_song_title.replace(\"/\", \"-\")\n",
    "    \n",
    "    else:\n",
    "        song_title_no_lyrics = song_title.replace(\"Lyrics\", \"\")\n",
    "        clean_song_title = song_title_no_lyrics.strip()\n",
    "        clean_song_title = clean_song_title.replace(\"/\", \"-\")\n",
    "    \n",
    "    return clean_song_title\n",
    "\n",
    "def get_all_songs_from_album(artist, album_name):\n",
    "    \n",
    "    artist = artist.replace(\" \", \"-\")\n",
    "    album_name = album_name.replace(\" \", \"-\")\n",
    "    \n",
    "    response = requests.get(f\"https://genius.com/albums/{artist}/{album_name}\")\n",
    "    html_string = response.text\n",
    "    document = BeautifulSoup(html_string, \"html.parser\")\n",
    "    song_title_tags = document.find_all(\"h3\", attrs={\"class\": \"chart_row-content-title\"})\n",
    "    song_titles = [song_title.text for song_title in song_title_tags]\n",
    "    \n",
    "    clean_songs = []\n",
    "    for song_title in song_titles:\n",
    "        clean_song = clean_up(song_title)\n",
    "        clean_songs.append(clean_song)\n",
    "        \n",
    "    return clean_songs\n",
    "\n",
    "def download_album_lyrics(artist, album_name): \n",
    "    \n",
    "    # You will need to go to Genius Developers to get your own client access token\n",
    "    client_access_token = 'insert_your_client_access_token_here'\n",
    "    LyricsGenius = lyricsgenius.Genius(client_access_token)\n",
    "    LyricsGenius.remove_section_headers = True\n",
    "    \n",
    "    clean_songs = get_all_songs_from_album(artist, album_name)\n",
    "    \n",
    "    for song in clean_songs:\n",
    "        \n",
    "        song_object = LyricsGenius.search_song(song, artist)\n",
    "        \n",
    "        if song_object != None:\n",
    "            \n",
    "            artist_title = artist.replace(\" \", \"-\")\n",
    "            album_title = album_name.replace(\" \", \"-\")\n",
    "            song_title = song.replace(\"/\", \"-\")\n",
    "            song_title = song.replace(\" \", \"-\")\n",
    "            \n",
    "            custom_filename=f\"{artist_title}_{album_title}/{song_title}\"\n",
    "            \n",
    "\n",
    "            Path(f\"{artist_title}_{album_title}\").mkdir(parents=True, exist_ok=True)\n",
    "            \n",
    "            song_object.save_lyrics(filename=custom_filename, extension='txt', sanitize=False)\n",
    "        \n",
    "        else:\n",
    "            print('No lyrics')"
   ]
  },
  {
   "cell_type": "markdown",
   "id": "158abd4e-353a-4e2f-8fc2-fa82163044e3",
   "metadata": {},
   "source": [
    "## Specify Your Artists + Albums of Interest"
   ]
  },
  {
   "cell_type": "code",
   "execution_count": null,
   "id": "7da04244-fcdc-4667-9204-bd1ba38d50d1",
   "metadata": {},
   "outputs": [],
   "source": [
    "#download_album_lyrics(\"Beyoncé\", \"Dangerously in Love\")\n",
    "#download_album_lyrics(\"Beyoncé\", \"B'Day\")\n",
    "#download_album_lyrics(\"Beyoncé\", \"I Am...Sasha Fierce\")\n",
    "#download_album_lyrics(\"Beyoncé\", \"4\")\n",
    "#download_album_lyrics(\"Beyoncé\", \"Lemonade\")\n",
    "#download_album_lyrics(\"Beyoncé\", \"The Lion King: The Gift\")\n",
    "#download_album_lyrics(\"Beyoncé\", \"Renaissance\")"
   ]
  },
  {
   "cell_type": "code",
   "execution_count": null,
   "id": "887e5f72-af5c-4176-b0da-fecf0081f45f",
   "metadata": {},
   "outputs": [],
   "source": []
  },
  {
   "cell_type": "code",
   "execution_count": null,
   "id": "07d21235-b3ba-4586-af66-f5fab9f060b4",
   "metadata": {},
   "outputs": [],
   "source": []
  },
  {
   "cell_type": "code",
   "execution_count": null,
   "id": "1d026865-4b2d-4e76-97d9-40d155ae0fe3",
   "metadata": {},
   "outputs": [],
   "source": []
  },
  {
   "cell_type": "code",
   "execution_count": null,
   "id": "509c718e-4dd7-4efc-b93a-517902f11a43",
   "metadata": {},
   "outputs": [],
   "source": []
  },
  {
   "cell_type": "code",
   "execution_count": null,
   "id": "9bbe8416-302c-4274-a481-199b8907410a",
   "metadata": {},
   "outputs": [],
   "source": []
  },
  {
   "cell_type": "code",
   "execution_count": null,
   "id": "910583ce-ab18-4225-bf05-51d772946bed",
   "metadata": {},
   "outputs": [],
   "source": []
  },
  {
   "cell_type": "code",
   "execution_count": null,
   "id": "3512c820-c6fc-479a-b1d2-4c60878dc3da",
   "metadata": {},
   "outputs": [],
   "source": []
  },
  {
   "cell_type": "code",
   "execution_count": null,
   "id": "c1ac5a77-d6cc-445a-ac97-e7e9b57a4d04",
   "metadata": {},
   "outputs": [],
   "source": []
  }
 ],
 "metadata": {
  "kernelspec": {
   "display_name": "Python 3 (ipykernel)",
   "language": "python",
   "name": "python3"
  },
  "language_info": {
   "codemirror_mode": {
    "name": "ipython",
    "version": 3
   },
   "file_extension": ".py",
   "mimetype": "text/x-python",
   "name": "python",
   "nbconvert_exporter": "python",
   "pygments_lexer": "ipython3",
   "version": "3.10.11"
  }
 },
 "nbformat": 4,
 "nbformat_minor": 5
}
