{
 "cells": [
  {
   "cell_type": "markdown",
   "id": "78bdf934-1f9e-4edc-a1b7-7a30b82ab690",
   "metadata": {},
   "source": [
    "# Lyrics of Beyoncé's Songs From the Genius API\n",
    "I followed this tutorial from Melanie Walsh's Intro to Cultural Analytics & Python book:\n",
    "https://melaniewalsh.github.io/Intro-Cultural-Analytics/04-Data-Collection/08-Collect-Genius-Lyrics.html"
   ]
  },
  {
   "cell_type": "code",
   "execution_count": 1,
   "id": "c7cc0512-7851-4e75-8ac1-ff885bf33343",
   "metadata": {},
   "outputs": [],
   "source": [
    "# Import Dependencies\n",
    "from bs4 import BeautifulSoup\n",
    "import re\n",
    "import lyricsgenius\n",
    "import requests\n",
    "from pathlib import Path\n",
    "import pandas as pd"
   ]
  },
  {
   "cell_type": "code",
   "execution_count": 2,
   "id": "6f6569d3-d8bc-4e0c-8c91-0e210a961d8a",
   "metadata": {},
   "outputs": [],
   "source": [
    "def clean_up(song_title):\n",
    "\n",
    "    if \"Ft\" in song_title:\n",
    "        before_ft_pattern = re.compile(\".*(?=\\(Ft)\")\n",
    "        song_title_before_ft = before_ft_pattern.search(song_title).group(0)\n",
    "        clean_song_title = song_title_before_ft.strip()\n",
    "        clean_song_title = clean_song_title.replace(\"/\", \"-\")\n",
    "    \n",
    "    else:\n",
    "        song_title_no_lyrics = song_title.replace(\"Lyrics\", \"\")\n",
    "        clean_song_title = song_title_no_lyrics.strip()\n",
    "        clean_song_title = clean_song_title.replace(\"/\", \"-\")\n",
    "    \n",
    "    return clean_song_title\n",
    "\n",
    "def get_all_songs_from_album(artist, album_name):\n",
    "    \n",
    "    artist = artist.replace(\" \", \"-\")\n",
    "    album_name = album_name.replace(\" \", \"-\")\n",
    "    \n",
    "    response = requests.get(f\"https://genius.com/albums/{artist}/{album_name}\")\n",
    "    html_string = response.text\n",
    "    document = BeautifulSoup(html_string, \"html.parser\")\n",
    "    song_title_tags = document.find_all(\"h3\", attrs={\"class\": \"chart_row-content-title\"})\n",
    "    song_titles = [song_title.text for song_title in song_title_tags]\n",
    "    \n",
    "    clean_songs = []\n",
    "    for song_title in song_titles:\n",
    "        clean_song = clean_up(song_title)\n",
    "        clean_songs.append(clean_song)\n",
    "        \n",
    "    return clean_songs\n",
    "\n",
    "def download_album_lyrics(artist, album_name): \n",
    "    \n",
    "    # You will need to go to Genius Developers to get your own client access token\n",
    "    client_access_token = 'OOhXRVg8i53XE0YfrXnEYsMhwOONMAxkagskbY-L9WZXLeOHDXeSF7XE8UbHGkLI'\n",
    "    LyricsGenius = lyricsgenius.Genius(client_access_token)\n",
    "    LyricsGenius.remove_section_headers = True\n",
    "    \n",
    "    clean_songs = get_all_songs_from_album(artist, album_name)\n",
    "    \n",
    "    for song in clean_songs:\n",
    "        \n",
    "        song_object = LyricsGenius.search_song(song, artist)\n",
    "        \n",
    "        if song_object != None:\n",
    "            \n",
    "            artist_title = artist.replace(\" \", \"-\")\n",
    "            album_title = album_name.replace(\" \", \"-\")\n",
    "            song_title = song.replace(\"/\", \"-\")\n",
    "            song_title = song.replace(\" \", \"-\")\n",
    "            \n",
    "            custom_filename=f\"{artist_title}_{album_title}/{song_title}\"\n",
    "            \n",
    "\n",
    "            Path(f\"{artist_title}_{album_title}\").mkdir(parents=True, exist_ok=True)\n",
    "            \n",
    "            song_object.save_lyrics(filename=custom_filename, extension='txt', sanitize=False)\n",
    "        \n",
    "        else:\n",
    "            print('No lyrics')"
   ]
  },
  {
   "cell_type": "markdown",
   "id": "158abd4e-353a-4e2f-8fc2-fa82163044e3",
   "metadata": {},
   "source": [
    "## Specify Your Artists + Albums of Interest"
   ]
  },
  {
   "cell_type": "code",
   "execution_count": 3,
   "id": "7da04244-fcdc-4667-9204-bd1ba38d50d1",
   "metadata": {},
   "outputs": [],
   "source": [
    "download_album_lyrics(\"Beyoncé\", \"Dangerously in Love\")\n",
    "download_album_lyrics(\"Beyoncé\", \"B'Day\")\n",
    "download_album_lyrics(\"Beyoncé\", \"I Am...Sasha Fierce\")\n",
    "download_album_lyrics(\"Beyoncé\", \"4\")\n",
    "download_album_lyrics(\"Beyoncé\", \"Lemonade\")\n",
    "download_album_lyrics(\"Beyoncé\", \"The Lion King: The Gift\")\n",
    "download_album_lyrics(\"Beyoncé\", \"Renaissance\")"
   ]
  },
  {
   "cell_type": "code",
   "execution_count": 4,
   "id": "07d21235-b3ba-4586-af66-f5fab9f060b4",
   "metadata": {},
   "outputs": [],
   "source": [
    "def clean_text(text):\n",
    "    \n",
    "    # Some light data cleaning - you will need to adjust based on your data\n",
    "    text = text.replace('See Beyonce LiveGet tickets as low as $270', ' ') # remove ad\n",
    "    text = re.sub('\\d*Embed', ' ', text) # remove ending text with number + Embed\n",
    "    \n",
    "    return text"
   ]
  },
  {
   "cell_type": "code",
   "execution_count": 5,
   "id": "1d026865-4b2d-4e76-97d9-40d155ae0fe3",
   "metadata": {},
   "outputs": [],
   "source": [
    "# Specify the folder names with the lyric data from Genius\n",
    "directory_paths = ['Dangerously_in_Love/',\n",
    "                   'BDay/',\n",
    "                   'I Am...Sasha Fierce/',\n",
    "                   '4/',\n",
    "                   'Lemonaade/',\n",
    "                   'The Lion King - The Gift/',\n",
    "                   'Renaissance/']"
   ]
  },
  {
   "cell_type": "code",
   "execution_count": 6,
   "id": "509c718e-4dd7-4efc-b93a-517902f11a43",
   "metadata": {},
   "outputs": [],
   "source": [
    "pd.options.display.max_rows = 500\n",
    "pd.set_option('display.max_colwidth', 0)\n",
    "\n",
    "beyonce_lyrics = pd.DataFrame({\"Album\": [],\n",
    "                          \"Song Name\": [],\n",
    "                          \"Lyrics\": []})\n",
    "\n",
    "idx = 0\n",
    "\n",
    "for i, album in enumerate(directory_paths):\n",
    "    \n",
    "    album_name = album[13:-1].replace(\"-\", \" \")\n",
    "        \n",
    "    for song in Path(album).glob('*.txt'):\n",
    "        \n",
    "        song_name = str(song).replace(\"-\", \" \").split(\"/\")[1][:-4]\n",
    "                \n",
    "        full_text = open(song, encoding=\"utf-8\")\n",
    "        lyrics_list = full_text.readlines()[1:] #read()\n",
    "        lyrics_list = [l.replace(\"\\n\", \"\") for l in lyrics_list]\n",
    "        lyrics = ' '.join(lyrics_list)\n",
    "        lyrics = clean_text(lyrics)\n",
    "        full_text.close()\n",
    "        \n",
    "        beyonce_lyrics.loc[idx] = [album_name, song_name, lyrics]\n",
    "        idx += 1"
   ]
  },
  {
   "cell_type": "code",
   "execution_count": 7,
   "id": "9bbe8416-302c-4274-a481-199b8907410a",
   "metadata": {},
   "outputs": [
    {
     "data": {
      "text/html": [
       "<div>\n",
       "<style scoped>\n",
       "    .dataframe tbody tr th:only-of-type {\n",
       "        vertical-align: middle;\n",
       "    }\n",
       "\n",
       "    .dataframe tbody tr th {\n",
       "        vertical-align: top;\n",
       "    }\n",
       "\n",
       "    .dataframe thead th {\n",
       "        text-align: right;\n",
       "    }\n",
       "</style>\n",
       "<table border=\"1\" class=\"dataframe\">\n",
       "  <thead>\n",
       "    <tr style=\"text-align: right;\">\n",
       "      <th></th>\n",
       "      <th>Album</th>\n",
       "      <th>Song Name</th>\n",
       "      <th>Lyrics</th>\n",
       "    </tr>\n",
       "  </thead>\n",
       "  <tbody>\n",
       "  </tbody>\n",
       "</table>\n",
       "</div>"
      ],
      "text/plain": [
       "Empty DataFrame\n",
       "Columns: [Album, Song Name, Lyrics]\n",
       "Index: []"
      ]
     },
     "execution_count": 7,
     "metadata": {},
     "output_type": "execute_result"
    }
   ],
   "source": [
    "beyonce_lyrics"
   ]
  },
  {
   "cell_type": "markdown",
   "id": "127724e8-8a21-4cab-b788-e4bbec732ad7",
   "metadata": {},
   "source": [
    "## Step 4: Export the Lyrics as a CSV File"
   ]
  },
  {
   "cell_type": "code",
   "execution_count": 8,
   "id": "c1ac5a77-d6cc-445a-ac97-e7e9b57a4d04",
   "metadata": {
    "tags": []
   },
   "outputs": [],
   "source": [
    "#beyonce_lyrics.to_csv(\"beyonce_genius_data.csv\", index=False)"
   ]
  }
 ],
 "metadata": {
  "kernelspec": {
   "display_name": "Python 3 (ipykernel)",
   "language": "python",
   "name": "python3"
  },
  "language_info": {
   "codemirror_mode": {
    "name": "ipython",
    "version": 3
   },
   "file_extension": ".py",
   "mimetype": "text/x-python",
   "name": "python",
   "nbconvert_exporter": "python",
   "pygments_lexer": "ipython3",
   "version": "3.10.11"
  }
 },
 "nbformat": 4,
 "nbformat_minor": 5
}
