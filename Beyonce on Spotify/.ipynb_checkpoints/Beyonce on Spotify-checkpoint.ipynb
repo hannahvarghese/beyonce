{
 "cells": [
  {
   "cell_type": "markdown",
   "id": "11754fe3-422d-4136-ba52-2a8daf2cd61b",
   "metadata": {},
   "source": [
    "# Beyonce Analysis "
   ]
  },
  {
   "cell_type": "markdown",
   "id": "3541b62a-0464-45a8-886a-b3a0e42464d2",
   "metadata": {},
   "source": [
    "## Connect to Spotify"
   ]
  },
  {
   "cell_type": "code",
   "execution_count": 1,
   "id": "e0b8332a-17ce-4f44-b292-e14cb034d574",
   "metadata": {
    "tags": []
   },
   "outputs": [],
   "source": [
    "# Import Dependencies\n",
    "import spotipy\n",
    "from spotipy.oauth2 import SpotifyClientCredentials\n",
    "import pandas as pd"
   ]
  },
  {
   "cell_type": "code",
   "execution_count": 2,
   "id": "3a21ad0f-8abf-4fde-8f60-e5fa0d684a7c",
   "metadata": {},
   "outputs": [],
   "source": [
    "# Spotify for Developers Client ID and Secret \n",
    "client_id = \"d9f151a97727434f942212281ff0c753\"\n",
    "client_secret = \"f0c3ab92eb9e4a1a960bd65b419bce77\""
   ]
  },
  {
   "cell_type": "code",
   "execution_count": 3,
   "id": "ba909929-27a8-4131-b342-7b4953371bce",
   "metadata": {},
   "outputs": [],
   "source": [
    "client_credentials_manager = SpotifyClientCredentials(client_id = client_id, client_secret = client_secret)\n",
    "sp = spotipy.Spotify(client_credentials_manager = client_credentials_manager)"
   ]
  },
  {
   "cell_type": "markdown",
   "id": "1bb371a7-ae15-43e2-b357-b8cee9ddb55b",
   "metadata": {},
   "source": [
    "## Beyonce's Discography"
   ]
  },
  {
   "cell_type": "code",
   "execution_count": 4,
   "id": "f6d25cf1-14d3-42ac-b12e-a1089fe2aec4",
   "metadata": {
    "tags": []
   },
   "outputs": [],
   "source": [
    "# Credit to Mariangela for creating the public Spotify playlist titled \"Beyonce All Songs (Complete Discography)\"\n",
    "all_songs_link = \"https://open.spotify.com/playlist/4Tsu0dDQ6yqd6RH7x4mnRj?si=71a0bd4fbba94aae\"\n",
    "all_songs_uri = all_songs_link.split(\"/\")[-1].split(\"?\")[0]"
   ]
  },
  {
   "cell_type": "code",
   "execution_count": null,
   "id": "7a3246f2-6e21-4b6e-9466-e6aaf1d891d3",
   "metadata": {},
   "outputs": [],
   "source": [
    "spotify_1 = sp.playlist_tracks(playlist_1_uri)"
   ]
  },
  {
   "cell_type": "code",
   "execution_count": null,
   "id": "01b35f3f-fb84-4918-ad79-ebedee55524d",
   "metadata": {},
   "outputs": [],
   "source": [
    "track_1_uris = [x[\"track\"][\"uri\"] for x in spotify_1[\"items\"]]"
   ]
  },
  {
   "cell_type": "code",
   "execution_count": null,
   "id": "70c55835-437a-44a8-98e7-4f41b0f43af6",
   "metadata": {},
   "outputs": [],
   "source": [
    "##"
   ]
  },
  {
   "cell_type": "code",
   "execution_count": null,
   "id": "18d0c235-542b-49ac-8bdc-f359a1e2f42f",
   "metadata": {},
   "outputs": [],
   "source": []
  },
  {
   "cell_type": "code",
   "execution_count": null,
   "id": "6f2f3a13-598b-4d33-9de7-1aa32d9ddcdc",
   "metadata": {},
   "outputs": [],
   "source": []
  },
  {
   "cell_type": "code",
   "execution_count": null,
   "id": "81e3bcc6-5eb0-4789-a118-d0e111e51292",
   "metadata": {},
   "outputs": [],
   "source": []
  },
  {
   "cell_type": "code",
   "execution_count": null,
   "id": "2b03affa-2427-471e-9fc3-6d81db2252d1",
   "metadata": {},
   "outputs": [],
   "source": []
  },
  {
   "cell_type": "code",
   "execution_count": null,
   "id": "26a44cd8-dbc5-4000-b5ed-fc275d711305",
   "metadata": {},
   "outputs": [],
   "source": []
  },
  {
   "cell_type": "code",
   "execution_count": null,
   "id": "5a046dd5-fd66-44f9-a89a-9883fe773c02",
   "metadata": {},
   "outputs": [],
   "source": []
  },
  {
   "cell_type": "code",
   "execution_count": null,
   "id": "089b78a8-afea-4082-91c0-287130528845",
   "metadata": {},
   "outputs": [],
   "source": []
  },
  {
   "cell_type": "code",
   "execution_count": null,
   "id": "418be190-9c3b-40a3-9dc5-d8e954c249f1",
   "metadata": {},
   "outputs": [],
   "source": []
  }
 ],
 "metadata": {
  "kernelspec": {
   "display_name": "Python 3 (ipykernel)",
   "language": "python",
   "name": "python3"
  },
  "language_info": {
   "codemirror_mode": {
    "name": "ipython",
    "version": 3
   },
   "file_extension": ".py",
   "mimetype": "text/x-python",
   "name": "python",
   "nbconvert_exporter": "python",
   "pygments_lexer": "ipython3",
   "version": "3.10.11"
  }
 },
 "nbformat": 4,
 "nbformat_minor": 5
}
