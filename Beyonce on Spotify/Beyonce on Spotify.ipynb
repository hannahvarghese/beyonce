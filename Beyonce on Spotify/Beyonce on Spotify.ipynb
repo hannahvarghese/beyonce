{
 "cells": [
  {
   "cell_type": "markdown",
   "id": "11754fe3-422d-4136-ba52-2a8daf2cd61b",
   "metadata": {},
   "source": [
    "# Beyoncé on Spotify Analysis "
   ]
  },
  {
   "cell_type": "code",
   "execution_count": 1,
   "id": "e0b8332a-17ce-4f44-b292-e14cb034d574",
   "metadata": {
    "tags": []
   },
   "outputs": [],
   "source": [
    "# Import Dependencies\n",
    "import spotipy\n",
    "from spotipy.oauth2 import SpotifyClientCredentials\n",
    "import pandas as pd"
   ]
  },
  {
   "cell_type": "code",
   "execution_count": 2,
   "id": "3a21ad0f-8abf-4fde-8f60-e5fa0d684a7c",
   "metadata": {},
   "outputs": [],
   "source": [
    "# Spotify for Developers Client ID and Secret \n",
    "client_id = \"d9f151a97727434f942212281ff0c753\"\n",
    "client_secret = \"f0c3ab92eb9e4a1a960bd65b419bce77\""
   ]
  },
  {
   "cell_type": "code",
   "execution_count": 3,
   "id": "ba909929-27a8-4131-b342-7b4953371bce",
   "metadata": {},
   "outputs": [],
   "source": [
    "client_credentials_manager = SpotifyClientCredentials(client_id = client_id, client_secret = client_secret)\n",
    "sp = spotipy.Spotify(client_credentials_manager = client_credentials_manager)"
   ]
  },
  {
   "cell_type": "markdown",
   "id": "1bb371a7-ae15-43e2-b357-b8cee9ddb55b",
   "metadata": {},
   "source": [
    "## Beyonce's Discography"
   ]
  },
  {
   "cell_type": "code",
   "execution_count": 4,
   "id": "f6d25cf1-14d3-42ac-b12e-a1089fe2aec4",
   "metadata": {
    "tags": []
   },
   "outputs": [],
   "source": [
    "# Credit to Mariangela for creating the public Spotify playlist titled \"Beyoncé All Songs (Complete Discography)\"\n",
    "all_songs_link = \"https://open.spotify.com/playlist/4Tsu0dDQ6yqd6RH7x4mnRj?si=71a0bd4fbba94aae\"\n",
    "all_songs_uri = all_songs_link.split(\"/\")[-1].split(\"?\")[0]"
   ]
  },
  {
   "cell_type": "code",
   "execution_count": 5,
   "id": "7a3246f2-6e21-4b6e-9466-e6aaf1d891d3",
   "metadata": {},
   "outputs": [],
   "source": [
    "spotify = sp.playlist_tracks(all_songs_uri)"
   ]
  },
  {
   "cell_type": "code",
   "execution_count": 11,
   "id": "01b35f3f-fb84-4918-ad79-ebedee55524d",
   "metadata": {},
   "outputs": [],
   "source": [
    "spotify_uris = [x[\"track\"][\"uri\"] for x in spotify[\"items\"]]"
   ]
  },
  {
   "cell_type": "code",
   "execution_count": null,
   "id": "70c55835-437a-44a8-98e7-4f41b0f43af6",
   "metadata": {},
   "outputs": [],
   "source": [
    "## Extracting Metadata"
   ]
  },
  {
   "cell_type": "code",
   "execution_count": 16,
   "id": "18d0c235-542b-49ac-8bdc-f359a1e2f42f",
   "metadata": {},
   "outputs": [
    {
     "data": {
      "text/html": [
       "<div>\n",
       "<style scoped>\n",
       "    .dataframe tbody tr th:only-of-type {\n",
       "        vertical-align: middle;\n",
       "    }\n",
       "\n",
       "    .dataframe tbody tr th {\n",
       "        vertical-align: top;\n",
       "    }\n",
       "\n",
       "    .dataframe thead th {\n",
       "        text-align: right;\n",
       "    }\n",
       "</style>\n",
       "<table border=\"1\" class=\"dataframe\">\n",
       "  <thead>\n",
       "    <tr style=\"text-align: right;\">\n",
       "      <th></th>\n",
       "      <th>Album</th>\n",
       "      <th>Song Name</th>\n",
       "      <th>Key</th>\n",
       "    </tr>\n",
       "  </thead>\n",
       "  <tbody>\n",
       "    <tr>\n",
       "      <th>0</th>\n",
       "      <td>Dangerously In Love</td>\n",
       "      <td>Crazy In Love (feat. Jay-Z)</td>\n",
       "      <td>2</td>\n",
       "    </tr>\n",
       "    <tr>\n",
       "      <th>1</th>\n",
       "      <td>Dangerously In Love</td>\n",
       "      <td>Naughty Girl</td>\n",
       "      <td>6</td>\n",
       "    </tr>\n",
       "    <tr>\n",
       "      <th>2</th>\n",
       "      <td>Dangerously In Love</td>\n",
       "      <td>Baby Boy (feat. Sean Paul)</td>\n",
       "      <td>1</td>\n",
       "    </tr>\n",
       "    <tr>\n",
       "      <th>3</th>\n",
       "      <td>Dangerously In Love</td>\n",
       "      <td>Hip Hop Star (feat. Big Boi &amp; Sleepy Brown)</td>\n",
       "      <td>6</td>\n",
       "    </tr>\n",
       "    <tr>\n",
       "      <th>4</th>\n",
       "      <td>Dangerously In Love</td>\n",
       "      <td>Be With You</td>\n",
       "      <td>0</td>\n",
       "    </tr>\n",
       "    <tr>\n",
       "      <th>...</th>\n",
       "      <td>...</td>\n",
       "      <td>...</td>\n",
       "      <td>...</td>\n",
       "    </tr>\n",
       "    <tr>\n",
       "      <th>95</th>\n",
       "      <td>I Am...World Tour</td>\n",
       "      <td>Irreplaceable - Live</td>\n",
       "      <td>11</td>\n",
       "    </tr>\n",
       "    <tr>\n",
       "      <th>96</th>\n",
       "      <td>I Am...World Tour</td>\n",
       "      <td>Check On It - Live</td>\n",
       "      <td>2</td>\n",
       "    </tr>\n",
       "    <tr>\n",
       "      <th>97</th>\n",
       "      <td>I Am...World Tour</td>\n",
       "      <td>Bootylicious - Live</td>\n",
       "      <td>1</td>\n",
       "    </tr>\n",
       "    <tr>\n",
       "      <th>98</th>\n",
       "      <td>I Am...World Tour</td>\n",
       "      <td>Upgrade U - Live</td>\n",
       "      <td>7</td>\n",
       "    </tr>\n",
       "    <tr>\n",
       "      <th>99</th>\n",
       "      <td>I Am...World Tour</td>\n",
       "      <td>Say My Name - Live</td>\n",
       "      <td>8</td>\n",
       "    </tr>\n",
       "  </tbody>\n",
       "</table>\n",
       "<p>100 rows × 3 columns</p>\n",
       "</div>"
      ],
      "text/plain": [
       "                  Album                                    Song Name  Key\n",
       "0   Dangerously In Love                  Crazy In Love (feat. Jay-Z)    2\n",
       "1   Dangerously In Love                                 Naughty Girl    6\n",
       "2   Dangerously In Love                   Baby Boy (feat. Sean Paul)    1\n",
       "3   Dangerously In Love  Hip Hop Star (feat. Big Boi & Sleepy Brown)    6\n",
       "4   Dangerously In Love                                  Be With You    0\n",
       "..                  ...                                          ...  ...\n",
       "95    I Am...World Tour                         Irreplaceable - Live   11\n",
       "96    I Am...World Tour                           Check On It - Live    2\n",
       "97    I Am...World Tour                          Bootylicious - Live    1\n",
       "98    I Am...World Tour                             Upgrade U - Live    7\n",
       "99    I Am...World Tour                           Say My Name - Live    8\n",
       "\n",
       "[100 rows x 3 columns]"
      ]
     },
     "execution_count": 16,
     "metadata": {},
     "output_type": "execute_result"
    }
   ],
   "source": [
    "beyonce_spotify = pd.DataFrame({\"Album\": [],\n",
    "                          \"Song Name\": [],\n",
    "                          \"Key\": []})\n",
    "\n",
    "playlist_id = 0\n",
    "idx = 0\n",
    "\n",
    "for i, metadata in enumerate(spotify[\"items\"]):\n",
    "\n",
    "    playlist_id += 1\n",
    "    uri = metadata[\"track\"][\"uri\"].split(\":\")[2]\n",
    "    album = metadata[\"track\"][\"album\"][\"name\"]\n",
    "    song_name = metadata[\"track\"][\"name\"]\n",
    "    \n",
    "    song = sp.audio_features(uri)[0]\n",
    "    \n",
    "    # Specify song features to extract\n",
    "    key = song[\"key\"]\n",
    "\n",
    "    beyonce_spotify.loc[idx] = [album, song_name, key]\n",
    "    \n",
    "    idx += 1\n",
    "\n",
    "beyonce_spotify"
   ]
  },
  {
   "cell_type": "code",
   "execution_count": null,
   "id": "6f2f3a13-598b-4d33-9de7-1aa32d9ddcdc",
   "metadata": {},
   "outputs": [],
   "source": []
  },
  {
   "cell_type": "code",
   "execution_count": null,
   "id": "81e3bcc6-5eb0-4789-a118-d0e111e51292",
   "metadata": {},
   "outputs": [],
   "source": []
  },
  {
   "cell_type": "code",
   "execution_count": null,
   "id": "2b03affa-2427-471e-9fc3-6d81db2252d1",
   "metadata": {},
   "outputs": [],
   "source": []
  },
  {
   "cell_type": "code",
   "execution_count": null,
   "id": "26a44cd8-dbc5-4000-b5ed-fc275d711305",
   "metadata": {},
   "outputs": [],
   "source": []
  },
  {
   "cell_type": "code",
   "execution_count": null,
   "id": "5a046dd5-fd66-44f9-a89a-9883fe773c02",
   "metadata": {},
   "outputs": [],
   "source": []
  },
  {
   "cell_type": "code",
   "execution_count": null,
   "id": "089b78a8-afea-4082-91c0-287130528845",
   "metadata": {},
   "outputs": [],
   "source": [
    "## Export the Metadata as a CSV File"
   ]
  },
  {
   "cell_type": "code",
   "execution_count": null,
   "id": "418be190-9c3b-40a3-9dc5-d8e954c249f1",
   "metadata": {},
   "outputs": [],
   "source": [
    "beyonce_spotify.to_csv(\"beyonce_spotify_data.csv\", index=False)"
   ]
  }
 ],
 "metadata": {
  "kernelspec": {
   "display_name": "Python 3 (ipykernel)",
   "language": "python",
   "name": "python3"
  },
  "language_info": {
   "codemirror_mode": {
    "name": "ipython",
    "version": 3
   },
   "file_extension": ".py",
   "mimetype": "text/x-python",
   "name": "python",
   "nbconvert_exporter": "python",
   "pygments_lexer": "ipython3",
   "version": "3.10.11"
  }
 },
 "nbformat": 4,
 "nbformat_minor": 5
}
